{
  "cells": [
    {
      "cell_type": "markdown",
      "metadata": {
        "cell_id": "480a1839dc5045b28557d25e548ecd64",
        "deepnote_cell_type": "markdown"
      },
      "source": [
        "## Initialization Notebook\n",
        "This is your initialization notebook.\n",
        "\n",
        "**What's this for?**\n",
        "\n",
        "You can put custom code you want us to run every time we setup your environment in here. \n",
        "\n",
        "**Awesome! Anything I should not put in here?**\n"
      ]
    },
    {
      "cell_type": "code",
      "execution_count": null,
      "metadata": {
        "cell_id": "0e3ca8007f1c4057b3ab5c70eccb4915",
        "deepnote_cell_type": "code",
        "deepnote_to_be_reexecuted": false,
        "execution_millis": 5536,
        "execution_start": 1690260203142,
        "source_hash": null
      },
      "outputs": [],
      "source": [
        "%%bash\n",
        "# If your project has a 'requirements.txt' file, we'll install it here apart from blacklisted packages that interfere with Deepnote (see above).\n",
        "if test -f /workspaces/codespaces-jupyter/requirements.txt\n",
        "  then\n",
        "    sed -i '/jedi/d;/jupyter/d;' /workspaces/codespaces-jupyter/requirements.txt\n",
        "    pip install -r /workspaces/codespaces-jupyter/requirements.txt\n",
        "  else echo \"There's no requirements.txt, so nothing to install. This is the case with most projects.\"\n",
        "fi"
      ]
    }
  ],
  "metadata": {
    "deepnote": {},
    "deepnote_execution_queue": [],
    "deepnote_notebook_id": "c286a320095541e1958cb40a5bdef17f",
    "kernelspec": {
      "display_name": "Python 3",
      "language": "python",
      "name": "python3"
    },
    "language_info": {
      "codemirror_mode": {
        "name": "ipython",
        "version": 3
      },
      "file_extension": ".py",
      "mimetype": "text/x-python",
      "name": "python",
      "nbconvert_exporter": "python",
      "pygments_lexer": "ipython3",
      "version": "3.10.8"
    },
    "orig_nbformat": 2
  },
  "nbformat": 4,
  "nbformat_minor": 0
}
