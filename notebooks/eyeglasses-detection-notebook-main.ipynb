{
  "cells": [
    {
      "cell_type": "markdown",
      "metadata": {
        "cell_id": "a54bd8a87f644136bc9863b19674e1e4",
        "deepnote_cell_type": "text-cell-h2",
        "formattedRanges": []
      },
      "source": [
        "## Step 1: Import Libraries"
      ]
    },
    {
      "cell_type": "code",
      "execution_count": 2,
      "metadata": {
        "cell_id": "af239f59015c43bca13f7dd64ec12176",
        "deepnote_cell_type": "code",
        "deepnote_to_be_reexecuted": false,
        "execution_millis": 8914,
        "execution_start": 1690265155991,
        "source_hash": "9f70265e"
      },
      "outputs": [
        {
          "name": "stderr",
          "output_type": "stream",
          "text": [
            "2023-07-26 06:51:14.904116: I tensorflow/tsl/cuda/cudart_stub.cc:28] Could not find cuda drivers on your machine, GPU will not be used.\n",
            "2023-07-26 06:51:16.665723: I tensorflow/tsl/cuda/cudart_stub.cc:28] Could not find cuda drivers on your machine, GPU will not be used.\n",
            "2023-07-26 06:51:16.666725: I tensorflow/core/platform/cpu_feature_guard.cc:182] This TensorFlow binary is optimized to use available CPU instructions in performance-critical operations.\n",
            "To enable the following instructions: AVX2 AVX512F FMA, in other operations, rebuild TensorFlow with the appropriate compiler flags.\n",
            "2023-07-26 06:51:17.942652: W tensorflow/compiler/tf2tensorrt/utils/py_utils.cc:38] TF-TRT Warning: Could not find TensorRT\n"
          ]
        }
      ],
      "source": [
        "# This is a Python blockimport os\n",
        "import numpy as np\n",
        "import tensorflow as tf\n",
        "from tensorflow.keras import layers, models\n",
        "from tensorflow.keras.preprocessing.image import ImageDataGenerator\n",
        "from tensorflow.keras.optimizers import Adam\n",
        "from sklearn.model_selection import train_test_split"
      ]
    },
    {
      "cell_type": "markdown",
      "metadata": {
        "cell_id": "0d3e93a89083479fb254ba9b145b5553",
        "deepnote_cell_type": "text-cell-h2",
        "formattedRanges": []
      },
      "source": [
        "## Step 2: Prepare the Dataset"
      ]
    },
    {
      "cell_type": "markdown",
      "metadata": {
        "cell_id": "aa5b80f652c445d09155c6182c2b12e2",
        "deepnote_cell_type": "text-cell-p",
        "formattedRanges": []
      },
      "source": [
        "You'll need a dataset containing images labeled with \"eyeglasses\" and \"no eyeglasses.\" Make sure you have the dataset organized into separate folders for each class."
      ]
    },
    {
      "cell_type": "code",
      "execution_count": 11,
      "metadata": {
        "cell_id": "766a0994903142acac5ff1156086d238",
        "deepnote_cell_type": "code",
        "deepnote_to_be_reexecuted": false,
        "execution_millis": 891,
        "execution_start": 1690265118151,
        "source_hash": "4c5963b7"
      },
      "outputs": [
        {
          "name": "stdout",
          "output_type": "stream",
          "text": [
            "with_eyeglasses  without_eyeglasses\n"
          ]
        }
      ],
      "source": [
        "!ls /workspaces/codespaces-jupyter/data"
      ]
    },
    {
      "cell_type": "code",
      "execution_count": 15,
      "metadata": {
        "allow_embed": false,
        "cell_id": "83fb60ee889e4aaa8771fcf7e906f1e5",
        "deepnote_cell_type": "code",
        "deepnote_to_be_reexecuted": false,
        "execution_millis": 13,
        "execution_start": 1690265454021,
        "source_hash": "77e3f617"
      },
      "outputs": [],
      "source": [
        "preprocess_data_dir = '/workspaces/codespaces-jupyter/output'"
      ]
    },
    {
      "cell_type": "code",
      "execution_count": 13,
      "metadata": {
        "allow_embed": false,
        "cell_id": "d4e7992c54be462392e8ada4872dc6ce",
        "deepnote_cell_type": "code",
        "deepnote_to_be_reexecuted": false,
        "execution_millis": 28,
        "execution_start": 1690265340154,
        "source_hash": "4f8b93ac"
      },
      "outputs": [],
      "source": [
        "dataset_dir = '/workspaces/codespaces-jupyter/data'"
      ]
    },
    {
      "cell_type": "code",
      "execution_count": 16,
      "metadata": {
        "cell_id": "4b956af30bae4c0ea6a79d1556d426e8",
        "deepnote_cell_type": "code",
        "deepnote_to_be_reexecuted": false,
        "execution_millis": 14,
        "execution_start": 1690265363388,
        "source_hash": "2c9ed90f"
      },
      "outputs": [
        {
          "name": "stdout",
          "output_type": "stream",
          "text": [
            "/workspaces/codespaces-jupyter/data\n",
            "/workspaces/codespaces-jupyter/output\n"
          ]
        }
      ],
      "source": [
        "print(dataset_dir)\n",
        "print(preprocess_data_dir)"
      ]
    },
    {
      "cell_type": "markdown",
      "metadata": {
        "cell_id": "24999c8fb56c4cb8be4f39b0ecb99ff3",
        "deepnote_cell_type": "text-cell-h2",
        "formattedRanges": []
      },
      "source": [
        "## Step 3: Load and Preprocess Data"
      ]
    },
    {
      "cell_type": "code",
      "execution_count": 18,
      "metadata": {
        "cell_id": "052732c2af424e2686f56bed66c438ca",
        "deepnote_cell_type": "code",
        "deepnote_to_be_reexecuted": false,
        "execution_millis": 28,
        "execution_start": 1690265169916,
        "source_hash": "d464704c"
      },
      "outputs": [
        {
          "name": "stdout",
          "output_type": "stream",
          "text": [
            "Found 240 images belonging to 2 classes.\n",
            "Found 60 images belonging to 2 classes.\n"
          ]
        }
      ],
      "source": [
        "# Set the path to your dataset directory\n",
        "data_dir = dataset_dir\n",
        "\n",
        "# Define image size and batch size\n",
        "img_width, img_height = 150, 150\n",
        "batch_size = 32\n",
        "\n",
        "# Use ImageDataGenerator for data augmentation and normalization\n",
        "datagen = ImageDataGenerator(rescale=1./255, validation_split=0.2)\n",
        "\n",
        "# Load and preprocess training data\n",
        "train_generator = datagen.flow_from_directory(\n",
        "    data_dir,\n",
        "    target_size=(img_width, img_height),\n",
        "    batch_size=batch_size,\n",
        "    class_mode='binary',\n",
        "    subset='training'\n",
        ")\n",
        "\n",
        "# Load and preprocess validation data\n",
        "validation_generator = datagen.flow_from_directory(\n",
        "    data_dir,\n",
        "    target_size=(img_width, img_height),\n",
        "    batch_size=batch_size,\n",
        "    class_mode='binary',\n",
        "    subset='validation'\n",
        ")"
      ]
    },
    {
      "cell_type": "markdown",
      "metadata": {
        "cell_id": "e7e11ba3d2a4446fb5626119cee4824b",
        "deepnote_cell_type": "text-cell-h2",
        "formattedRanges": []
      },
      "source": [
        "## Step 3: Load and Preprocess Data, Export files"
      ]
    },
    {
      "cell_type": "code",
      "execution_count": 22,
      "metadata": {
        "cell_id": "47255d4ff2404bd482e482435b9f2e9f",
        "deepnote_cell_type": "code",
        "deepnote_to_be_reexecuted": false,
        "execution_millis": 778,
        "execution_start": 1690265504389,
        "source_hash": "83bdfd3c"
      },
      "outputs": [
        {
          "name": "stdout",
          "output_type": "stream",
          "text": [
            "Found 240 images belonging to 2 classes.\n",
            "Found 60 images belonging to 2 classes.\n"
          ]
        }
      ],
      "source": [
        "datagen = ImageDataGenerator(rescale=1./255, validation_split=0.2)\n",
        "\n",
        "# Load and preprocess training data\n",
        "train_generator = datagen.flow_from_directory(\n",
        "    data_dir,\n",
        "    target_size=(img_width, img_height),\n",
        "    batch_size=batch_size,\n",
        "    class_mode='binary',\n",
        "    subset='training',\n",
        "    shuffle=False  # Set shuffle to False to maintain order\n",
        ")\n",
        "\n",
        "# Load and preprocess validation data\n",
        "validation_generator = datagen.flow_from_directory(\n",
        "    data_dir,\n",
        "    target_size=(img_width, img_height),\n",
        "    batch_size=batch_size,\n",
        "    class_mode='binary',\n",
        "    subset='validation',\n",
        "    shuffle=False  # Set shuffle to False to maintain order\n",
        ")\n",
        "\n",
        "# Extract data and labels from the generators\n",
        "train_data = np.concatenate([train_generator.next()[0] for i in range(len(train_generator))])\n",
        "train_labels = np.concatenate([train_generator.next()[1] for i in range(len(train_generator))])\n",
        "val_data = np.concatenate([validation_generator.next()[0] for i in range(len(validation_generator))])\n",
        "val_labels = np.concatenate([validation_generator.next()[1] for i in range(len(validation_generator))])\n",
        "\n",
        "# Save the preprocessed data and labels to files\n",
        "np.save(preprocess_data_dir+'/train_data.npy', train_data)\n",
        "np.save(preprocess_data_dir+'/train_labels.npy', train_labels)\n",
        "np.save(preprocess_data_dir+'/val_data.npy', val_data)\n",
        "np.save(preprocess_data_dir+'/val_labels.npy', val_labels)\n"
      ]
    },
    {
      "cell_type": "markdown",
      "metadata": {
        "cell_id": "fe04b6b5025f43a49ff9ada587e8682f",
        "deepnote_cell_type": "text-cell-h2",
        "formattedRanges": []
      },
      "source": [
        "## Step 4: Build the CNN Model"
      ]
    },
    {
      "cell_type": "code",
      "execution_count": 24,
      "metadata": {
        "cell_id": "29dfa7cb03484f9b8fbd520abe6839a9",
        "deepnote_cell_type": "code"
      },
      "outputs": [
        {
          "name": "stdout",
          "output_type": "stream",
          "text": [
            "Model: \"sequential_1\"\n",
            "_________________________________________________________________\n",
            " Layer (type)                Output Shape              Param #   \n",
            "=================================================================\n",
            " conv2d_3 (Conv2D)           (None, 148, 148, 32)      896       \n",
            "                                                                 \n",
            " max_pooling2d_3 (MaxPoolin  (None, 74, 74, 32)        0         \n",
            " g2D)                                                            \n",
            "                                                                 \n",
            " conv2d_4 (Conv2D)           (None, 72, 72, 64)        18496     \n",
            "                                                                 \n",
            " max_pooling2d_4 (MaxPoolin  (None, 36, 36, 64)        0         \n",
            " g2D)                                                            \n",
            "                                                                 \n",
            " conv2d_5 (Conv2D)           (None, 34, 34, 128)       73856     \n",
            "                                                                 \n",
            " max_pooling2d_5 (MaxPoolin  (None, 17, 17, 128)       0         \n",
            " g2D)                                                            \n",
            "                                                                 \n",
            " flatten_1 (Flatten)         (None, 36992)             0         \n",
            "                                                                 \n",
            " dense_2 (Dense)             (None, 128)               4735104   \n",
            "                                                                 \n",
            " dropout_1 (Dropout)         (None, 128)               0         \n",
            "                                                                 \n",
            " dense_3 (Dense)             (None, 1)                 129       \n",
            "                                                                 \n",
            "=================================================================\n",
            "Total params: 4828481 (18.42 MB)\n",
            "Trainable params: 4828481 (18.42 MB)\n",
            "Non-trainable params: 0 (0.00 Byte)\n",
            "_________________________________________________________________\n"
          ]
        }
      ],
      "source": [
        "# Create the CNN model\n",
        "model = models.Sequential()\n",
        "\n",
        "model.add(layers.Conv2D(32, (3, 3), activation='relu', input_shape=(img_width, img_height, 3)))\n",
        "model.add(layers.MaxPooling2D((2, 2)))\n",
        "\n",
        "model.add(layers.Conv2D(64, (3, 3), activation='relu'))\n",
        "model.add(layers.MaxPooling2D((2, 2)))\n",
        "\n",
        "model.add(layers.Conv2D(128, (3, 3), activation='relu'))\n",
        "model.add(layers.MaxPooling2D((2, 2)))\n",
        "\n",
        "model.add(layers.Flatten())\n",
        "\n",
        "model.add(layers.Dense(128, activation='relu'))\n",
        "model.add(layers.Dropout(0.5))\n",
        "model.add(layers.Dense(1, activation='sigmoid'))\n",
        "\n",
        "# Compile the model\n",
        "model.compile(optimizer=Adam(learning_rate=0.001), loss='binary_crossentropy', metrics=['accuracy'])\n",
        "\n",
        "# Display model summary\n",
        "model.summary()\n"
      ]
    },
    {
      "cell_type": "markdown",
      "metadata": {
        "cell_id": "2d6746f5424a44d4bffaaeef6d4e8b0c",
        "deepnote_cell_type": "text-cell-h2",
        "formattedRanges": []
      },
      "source": [
        "## Step 5: Train the Model"
      ]
    },
    {
      "cell_type": "code",
      "execution_count": 25,
      "metadata": {
        "cell_id": "f7fd0f0b75a848439d15b81e5757442a",
        "deepnote_cell_type": "code"
      },
      "outputs": [
        {
          "name": "stdout",
          "output_type": "stream",
          "text": [
            "Epoch 1/10\n"
          ]
        },
        {
          "name": "stderr",
          "output_type": "stream",
          "text": [
            "2023-07-26 06:59:52.864779: W tensorflow/tsl/framework/cpu_allocator_impl.cc:83] Allocation of 89718784 exceeds 10% of free system memory.\n",
            "2023-07-26 06:59:53.199308: W tensorflow/tsl/framework/cpu_allocator_impl.cc:83] Allocation of 22429696 exceeds 10% of free system memory.\n",
            "2023-07-26 06:59:53.214975: W tensorflow/tsl/framework/cpu_allocator_impl.cc:83] Allocation of 42467328 exceeds 10% of free system memory.\n",
            "2023-07-26 06:59:53.448668: W tensorflow/tsl/framework/cpu_allocator_impl.cc:83] Allocation of 23970816 exceeds 10% of free system memory.\n",
            "2023-07-26 06:59:53.509115: W tensorflow/tsl/framework/cpu_allocator_impl.cc:83] Allocation of 21233664 exceeds 10% of free system memory.\n"
          ]
        },
        {
          "name": "stdout",
          "output_type": "stream",
          "text": [
            "7/7 [==============================] - 6s 573ms/step - loss: 0.9357 - accuracy: 0.4375 - val_loss: 0.6881 - val_accuracy: 1.0000\n",
            "Epoch 2/10\n",
            "7/7 [==============================] - 3s 446ms/step - loss: 0.6947 - accuracy: 0.3798 - val_loss: 0.6975 - val_accuracy: 0.0625\n",
            "Epoch 3/10\n",
            "7/7 [==============================] - 3s 424ms/step - loss: 0.6898 - accuracy: 0.5385 - val_loss: 0.6950 - val_accuracy: 0.0625\n",
            "Epoch 4/10\n",
            "7/7 [==============================] - 3s 423ms/step - loss: 0.6791 - accuracy: 0.5865 - val_loss: 0.7018 - val_accuracy: 0.0625\n",
            "Epoch 5/10\n",
            "7/7 [==============================] - 3s 442ms/step - loss: 0.6641 - accuracy: 0.5357 - val_loss: 0.6774 - val_accuracy: 0.7812\n",
            "Epoch 6/10\n",
            "7/7 [==============================] - 3s 456ms/step - loss: 0.6407 - accuracy: 0.6429 - val_loss: 0.6271 - val_accuracy: 0.9062\n",
            "Epoch 7/10\n",
            "7/7 [==============================] - 3s 412ms/step - loss: 0.5292 - accuracy: 0.7452 - val_loss: 0.7025 - val_accuracy: 0.6250\n",
            "Epoch 8/10\n",
            "7/7 [==============================] - 3s 421ms/step - loss: 0.5265 - accuracy: 0.6731 - val_loss: 0.4691 - val_accuracy: 0.8125\n",
            "Epoch 9/10\n",
            "7/7 [==============================] - 3s 408ms/step - loss: 0.4082 - accuracy: 0.8221 - val_loss: 0.2903 - val_accuracy: 1.0000\n",
            "Epoch 10/10\n",
            "7/7 [==============================] - 3s 434ms/step - loss: 0.3703 - accuracy: 0.8221 - val_loss: 0.1813 - val_accuracy: 1.0000\n"
          ]
        }
      ],
      "source": [
        "# Define the number of training and validation steps per epoch\n",
        "train_steps_per_epoch = train_generator.samples // batch_size\n",
        "val_steps_per_epoch = validation_generator.samples // batch_size\n",
        "\n",
        "# Set the number of training epochs\n",
        "epochs = 10\n",
        "\n",
        "# Train the model\n",
        "history = model.fit(\n",
        "    train_generator,\n",
        "    steps_per_epoch=train_steps_per_epoch,\n",
        "    epochs=epochs,\n",
        "    validation_data=validation_generator,\n",
        "    validation_steps=val_steps_per_epoch\n",
        ")"
      ]
    },
    {
      "cell_type": "markdown",
      "metadata": {
        "cell_id": "0afce0d05ba1485084ae72c5fa957fd6",
        "deepnote_cell_type": "text-cell-h2",
        "formattedRanges": []
      },
      "source": [
        "## Step 6: Evaluate the Model"
      ]
    },
    {
      "cell_type": "code",
      "execution_count": 26,
      "metadata": {
        "cell_id": "dafe98721fba48458314f2a44dd64b73",
        "deepnote_cell_type": "code",
        "deepnote_to_be_reexecuted": false,
        "execution_millis": 435,
        "execution_start": 1690257371196,
        "source_hash": null
      },
      "outputs": [
        {
          "name": "stdout",
          "output_type": "stream",
          "text": [
            "1/1 [==============================] - 0s 166ms/step - loss: 0.1813 - accuracy: 1.0000\n",
            "Validation Accuracy: 100.00%\n"
          ]
        }
      ],
      "source": [
        "# Evaluate the model on the test set\n",
        "loss, accuracy = model.evaluate(validation_generator, steps=val_steps_per_epoch)\n",
        "print(f\"Validation Accuracy: {accuracy*100:.2f}%\")"
      ]
    },
    {
      "cell_type": "markdown",
      "metadata": {},
      "source": [
        "## Step 7: Add new Image"
      ]
    },
    {
      "cell_type": "code",
      "execution_count": null,
      "metadata": {},
      "outputs": [],
      "source": [
        "img = image.load_img(\"test_image.jpg\", target_size=(img_width, img_height))\n",
        "img = np.asarray(img)\n",
        "plt.imshow(img)\n",
        "img = np.expand_dims(img, axis=0)"
      ]
    },
    {
      "cell_type": "markdown",
      "metadata": {
        "cell_id": "bfda677da3e640e09f7af25188d090e0",
        "deepnote_cell_type": "text-cell-h2",
        "formattedRanges": []
      },
      "source": [
        "## Step 7: Make Predictions"
      ]
    },
    {
      "cell_type": "markdown",
      "metadata": {
        "cell_id": "089b433b94954a0e8193819b76da73c0",
        "deepnote_cell_type": "text-cell-p",
        "formattedRanges": []
      },
      "source": [
        "After training and evaluating the model, you can use it to make predictions on new images. Use the model.predict() function to obtain the prediction probabilities for each class. For instance:"
      ]
    },
    {
      "cell_type": "code",
      "execution_count": 27,
      "metadata": {
        "cell_id": "a295056af79a41588552671884d163da",
        "deepnote_cell_type": "code"
      },
      "outputs": [
        {
          "ename": "NameError",
          "evalue": "name 'img' is not defined",
          "output_type": "error",
          "traceback": [
            "\u001b[0;31m---------------------------------------------------------------------------\u001b[0m",
            "\u001b[0;31mNameError\u001b[0m                                 Traceback (most recent call last)",
            "Cell \u001b[0;32mIn[27], line 2\u001b[0m\n\u001b[1;32m      1\u001b[0m \u001b[39m# Assuming you have a new image (img) to predict\u001b[39;00m\n\u001b[0;32m----> 2\u001b[0m img_array \u001b[39m=\u001b[39m tf\u001b[39m.\u001b[39mkeras\u001b[39m.\u001b[39mpreprocessing\u001b[39m.\u001b[39mimage\u001b[39m.\u001b[39mimg_to_array(img)\n\u001b[1;32m      3\u001b[0m img_array \u001b[39m=\u001b[39m tf\u001b[39m.\u001b[39mexpand_dims(img_array, \u001b[39m0\u001b[39m)  \u001b[39m# Add batch dimension\u001b[39;00m\n\u001b[1;32m      5\u001b[0m \u001b[39m# Make the prediction\u001b[39;00m\n",
            "\u001b[0;31mNameError\u001b[0m: name 'img' is not defined"
          ]
        }
      ],
      "source": [
        "# Assuming you have a new image (img) to predict\n",
        "img_array = tf.keras.preprocessing.image.img_to_array(img)\n",
        "img_array = tf.expand_dims(img_array, 0)  # Add batch dimension\n",
        "\n",
        "# Make the prediction\n",
        "predictions = model.predict(img_array)\n",
        "probability = predictions[0][0]\n",
        "\n",
        "# Check if the image contains eyeglasses or not\n",
        "if probability > 0.5:\n",
        "    print(\"Eyeglasses detected!\")\n",
        "else:\n",
        "    print(\"No eyeglasses detected.\")"
      ]
    },
    {
      "cell_type": "markdown",
      "metadata": {
        "created_in_deepnote_cell": true,
        "deepnote_cell_type": "markdown"
      },
      "source": [
        "<a style='text-decoration:none;line-height:16px;display:flex;color:#5B5B62;padding:10px;justify-content:end;' href='https://deepnote.com?utm_source=created-in-deepnote-cell&projectId=d822edbe-8d88-4e5f-b475-b8b674ae1c11' target=\"_blank\">\n",
        "<img alt='Created in deepnote.com' style='display:inline;max-height:16px;margin:0px;margin-right:7.5px;' src='data:image/svg+xml;base64,PD94bWwgdmVyc2lvbj0iMS4wIiBlbmNvZGluZz0iVVRGLTgiPz4KPHN2ZyB3aWR0aD0iODBweCIgaGVpZ2h0PSI4MHB4IiB2aWV3Qm94PSIwIDAgODAgODAiIHZlcnNpb249IjEuMSIgeG1sbnM9Imh0dHA6Ly93d3cudzMub3JnLzIwMDAvc3ZnIiB4bWxuczp4bGluaz0iaHR0cDovL3d3dy53My5vcmcvMTk5OS94bGluayI+CiAgICA8IS0tIEdlbmVyYXRvcjogU2tldGNoIDU0LjEgKDc2NDkwKSAtIGh0dHBzOi8vc2tldGNoYXBwLmNvbSAtLT4KICAgIDx0aXRsZT5Hcm91cCAzPC90aXRsZT4KICAgIDxkZXNjPkNyZWF0ZWQgd2l0aCBTa2V0Y2guPC9kZXNjPgogICAgPGcgaWQ9IkxhbmRpbmciIHN0cm9rZT0ibm9uZSIgc3Ryb2tlLXdpZHRoPSIxIiBmaWxsPSJub25lIiBmaWxsLXJ1bGU9ImV2ZW5vZGQiPgogICAgICAgIDxnIGlkPSJBcnRib2FyZCIgdHJhbnNmb3JtPSJ0cmFuc2xhdGUoLTEyMzUuMDAwMDAwLCAtNzkuMDAwMDAwKSI+CiAgICAgICAgICAgIDxnIGlkPSJHcm91cC0zIiB0cmFuc2Zvcm09InRyYW5zbGF0ZSgxMjM1LjAwMDAwMCwgNzkuMDAwMDAwKSI+CiAgICAgICAgICAgICAgICA8cG9seWdvbiBpZD0iUGF0aC0yMCIgZmlsbD0iIzAyNjVCNCIgcG9pbnRzPSIyLjM3NjIzNzYyIDgwIDM4LjA0NzY2NjcgODAgNTcuODIxNzgyMiA3My44MDU3NTkyIDU3LjgyMTc4MjIgMzIuNzU5MjczOSAzOS4xNDAyMjc4IDMxLjY4MzE2ODMiPjwvcG9seWdvbj4KICAgICAgICAgICAgICAgIDxwYXRoIGQ9Ik0zNS4wMDc3MTgsODAgQzQyLjkwNjIwMDcsNzYuNDU0OTM1OCA0Ny41NjQ5MTY3LDcxLjU0MjI2NzEgNDguOTgzODY2LDY1LjI2MTk5MzkgQzUxLjExMjI4OTksNTUuODQxNTg0MiA0MS42NzcxNzk1LDQ5LjIxMjIyODQgMjUuNjIzOTg0Niw0OS4yMTIyMjg0IEMyNS40ODQ5Mjg5LDQ5LjEyNjg0NDggMjkuODI2MTI5Niw0My4yODM4MjQ4IDM4LjY0NzU4NjksMzEuNjgzMTY4MyBMNzIuODcxMjg3MSwzMi41NTQ0MjUgTDY1LjI4MDk3Myw2Ny42NzYzNDIxIEw1MS4xMTIyODk5LDc3LjM3NjE0NCBMMzUuMDA3NzE4LDgwIFoiIGlkPSJQYXRoLTIyIiBmaWxsPSIjMDAyODY4Ij48L3BhdGg+CiAgICAgICAgICAgICAgICA8cGF0aCBkPSJNMCwzNy43MzA0NDA1IEwyNy4xMTQ1MzcsMC4yNTcxMTE0MzYgQzYyLjM3MTUxMjMsLTEuOTkwNzE3MDEgODAsMTAuNTAwMzkyNyA4MCwzNy43MzA0NDA1IEM4MCw2NC45NjA0ODgyIDY0Ljc3NjUwMzgsNzkuMDUwMzQxNCAzNC4zMjk1MTEzLDgwIEM0Ny4wNTUzNDg5LDc3LjU2NzA4MDggNTMuNDE4MjY3Nyw3MC4zMTM2MTAzIDUzLjQxODI2NzcsNTguMjM5NTg4NSBDNTMuNDE4MjY3Nyw0MC4xMjg1NTU3IDM2LjMwMzk1NDQsMzcuNzMwNDQwNSAyNS4yMjc0MTcsMzcuNzMwNDQwNSBDMTcuODQzMDU4NiwzNy43MzA0NDA1IDkuNDMzOTE5NjYsMzcuNzMwNDQwNSAwLDM3LjczMDQ0MDUgWiIgaWQ9IlBhdGgtMTkiIGZpbGw9IiMzNzkzRUYiPjwvcGF0aD4KICAgICAgICAgICAgPC9nPgogICAgICAgIDwvZz4KICAgIDwvZz4KPC9zdmc+' > </img>\n",
        "Created in <span style='font-weight:600;margin-left:4px;'>Deepnote</span></a>"
      ]
    }
  ],
  "metadata": {
    "deepnote": {},
    "deepnote_execution_queue": [],
    "deepnote_notebook_id": "b2bab72d9a7347ceb733ca7e9a20eabf",
    "deepnote_persisted_session": {
      "createdAt": "2023-07-25T05:32:51.653Z"
    },
    "kernelspec": {
      "display_name": "Python 3",
      "language": "python",
      "name": "python3"
    },
    "language_info": {
      "codemirror_mode": {
        "name": "ipython",
        "version": 3
      },
      "file_extension": ".py",
      "mimetype": "text/x-python",
      "name": "python",
      "nbconvert_exporter": "python",
      "pygments_lexer": "ipython3",
      "version": "3.10.8"
    },
    "orig_nbformat": 2
  },
  "nbformat": 4,
  "nbformat_minor": 0
}
